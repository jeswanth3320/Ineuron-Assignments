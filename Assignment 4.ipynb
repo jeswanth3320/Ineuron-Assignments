{
 "cells": [
  {
   "cell_type": "markdown",
   "metadata": {},
   "source": [
    "# ASSIGNMENT 4"
   ]
  },
  {
   "cell_type": "markdown",
   "metadata": {},
   "source": [
    "# PROGRAM 1.1"
   ]
  },
  {
   "cell_type": "code",
   "execution_count": 48,
   "metadata": {},
   "outputs": [
    {
     "name": "stdout",
     "output_type": "stream",
     "text": [
      "Area of triangle is  1320.0\n"
     ]
    }
   ],
   "source": [
    "\n",
    "class Parent:\n",
    "    def __init__(self,a,b,c):\n",
    "        self.a=a\n",
    "        self.b=b\n",
    "        self.c=c\n",
    "class Child(Parent):\n",
    "    def area(self):\n",
    "        s=(self.a+self.b+self.c)/2\n",
    "        s1=(s*(s-self.a)*(s-self.b)*(s-self.c))**0.5\n",
    "        print(\"Area of triangle is \",s1)\n",
    "obg = Parent(120,122,22)\n",
    "obj= Child(120,122,22)\n",
    "obj.area()\n"
   ]
  },
  {
   "cell_type": "markdown",
   "metadata": {},
   "source": [
    "# PROGRAM 1.2"
   ]
  },
  {
   "cell_type": "code",
   "execution_count": 54,
   "metadata": {},
   "outputs": [
    {
     "name": "stdout",
     "output_type": "stream",
     "text": [
      "enter any number 4\n"
     ]
    },
    {
     "data": {
      "text/plain": [
       "['jeswa', 'harsha', 'narayan', 'venkata', 'vibhav', 'rohan']"
      ]
     },
     "execution_count": 54,
     "metadata": {},
     "output_type": "execute_result"
    }
   ],
   "source": [
    "\n",
    "def filter_long_words(lis,n):\n",
    "    lis1=[]\n",
    "    for i in lis:\n",
    "        if(len(i)>n):\n",
    "            lis1.append(i)\n",
    "    return lis1\n",
    "a=['jeswa','harsha','narayan','venkata','vibhav','rohan','ss','rrr','k','js','jee']\n",
    "b=int(input(\"enter any number \"))\n",
    "filter_long_words(a,b)\n"
   ]
  },
  {
   "cell_type": "markdown",
   "metadata": {},
   "source": [
    "# PROGRAM 2.1"
   ]
  },
  {
   "cell_type": "code",
   "execution_count": 57,
   "metadata": {},
   "outputs": [],
   "source": [
    "def length(lis):\n",
    "    lis1=[]\n",
    "    for i in lis:\n",
    "        t=len(lis)\n",
    "        lis1.append(t)\n",
    "        return t\n"
   ]
  },
  {
   "cell_type": "code",
   "execution_count": 58,
   "metadata": {},
   "outputs": [
    {
     "data": {
      "text/plain": [
       "[5, 6, 7, 7, 6, 5]"
      ]
     },
     "execution_count": 58,
     "metadata": {},
     "output_type": "execute_result"
    }
   ],
   "source": [
    "a=['jeswa','harsha','narayan','venkata','vibhav','rohan']\n",
    "list(map(length,a))"
   ]
  },
  {
   "cell_type": "markdown",
   "metadata": {},
   "source": [
    "# PROGRAM 2.2 "
   ]
  },
  {
   "cell_type": "code",
   "execution_count": 3,
   "metadata": {},
   "outputs": [
    {
     "name": "stdout",
     "output_type": "stream",
     "text": [
      "Enter character to check that it is Vowel or not\n",
      "Input Value: r\n",
      "Output Value: False\n"
     ]
    }
   ],
   "source": [
    "\n",
    "def vowel_check(inputt):\n",
    "    return_value=''\n",
    "    if(len(inputt)==1):\n",
    "        vowel_list=['a','e','i','o','u']\n",
    "        if (inputt.lower() in vowel_list):\n",
    "            return_value= True\n",
    "        else:\n",
    "            return_value= False\n",
    "    else:\n",
    "        return_value=\"Please enter single character only!\"        \n",
    "    return return_value\n",
    "print(\"Enter character to check that it is Vowel or not\")\n",
    "input_value = input(\"Input Value: \")\n",
    "output_value=vowel_check(input_value) \n",
    "print(\"Output Value:\",output_value)"
   ]
  },
  {
   "cell_type": "code",
   "execution_count": 4,
   "metadata": {},
   "outputs": [
    {
     "name": "stdout",
     "output_type": "stream",
     "text": [
      "Enter character to check that it is Vowel or not\n",
      "Input Value: r\n",
      "Output Value: False\n"
     ]
    }
   ],
   "source": [
    "print(\"Enter character to check that it is Vowel or not\")\n",
    "input_value = input(\"Input Value: \")\n",
    "output_value=vowel_check(input_value) \n",
    "print(\"Output Value:\",output_value)"
   ]
  }
 ],
 "metadata": {
  "kernelspec": {
   "display_name": "Python 3",
   "language": "python",
   "name": "python3"
  },
  "language_info": {
   "codemirror_mode": {
    "name": "ipython",
    "version": 3
   },
   "file_extension": ".py",
   "mimetype": "text/x-python",
   "name": "python",
   "nbconvert_exporter": "python",
   "pygments_lexer": "ipython3",
   "version": "3.8.3"
  }
 },
 "nbformat": 4,
 "nbformat_minor": 4
}
